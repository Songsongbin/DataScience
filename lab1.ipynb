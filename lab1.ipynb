{
 "cells": [
  {
   "cell_type": "code",
   "execution_count": 40,
   "metadata": {},
   "outputs": [],
   "source": [
    "import csv"
   ]
  },
  {
   "cell_type": "code",
   "execution_count": 41,
   "metadata": {},
   "outputs": [],
   "source": [
    "a=['사과','바나나','포도']"
   ]
  },
  {
   "cell_type": "code",
   "execution_count": 42,
   "metadata": {},
   "outputs": [],
   "source": [
    "b=['1','2','3']"
   ]
  },
  {
   "cell_type": "code",
   "execution_count": 43,
   "metadata": {},
   "outputs": [],
   "source": [
    "c=['a','b','c']"
   ]
  },
  {
   "cell_type": "code",
   "execution_count": 79,
   "metadata": {},
   "outputs": [],
   "source": [
    "res= a+b+c"
   ]
  },
  {
   "cell_type": "code",
   "execution_count": 81,
   "metadata": {},
   "outputs": [
    {
     "name": "stdout",
     "output_type": "stream",
     "text": [
      "1: 사과\n",
      "2: 바나나\n",
      "3: 포도\n",
      "4: 1\n",
      "5: 2\n",
      "6: 3\n",
      "7: a\n",
      "8: b\n",
      "9: c\n"
     ]
    }
   ],
   "source": [
    "for i in range(len(res)):\n",
    "    print(i+1,end=': ')\n",
    "    print(res[i])"
   ]
  },
  {
   "cell_type": "code",
   "execution_count": 82,
   "metadata": {},
   "outputs": [],
   "source": [
    "lab1=open('output.csv','w',encoding='utf-8',newline='')\n",
    "for i in range(len(res)-1):\n",
    "    lab1.write(res[i]+',')\n",
    "lab1.write(res[i+1])\n",
    "lab1.close()"
   ]
  },
  {
   "cell_type": "code",
   "execution_count": 83,
   "metadata": {},
   "outputs": [
    {
     "name": "stdout",
     "output_type": "stream",
     "text": [
      "['사과', '바나나', '포도', '1', '2', '3', 'a', 'b', 'c']\n"
     ]
    }
   ],
   "source": [
    "lab1 = open('output.csv', 'r', encoding='utf-8')\n",
    "rdr = csv.reader(lab1)\n",
    "for line in rdr:\n",
    "  print(line)\n",
    "lab1.close()"
   ]
  },
  {
   "cell_type": "code",
   "execution_count": null,
   "metadata": {},
   "outputs": [],
   "source": []
  }
 ],
 "metadata": {
  "kernelspec": {
   "display_name": "Python 3",
   "language": "python",
   "name": "python3"
  },
  "language_info": {
   "codemirror_mode": {
    "name": "ipython",
    "version": 3
   },
   "file_extension": ".py",
   "mimetype": "text/x-python",
   "name": "python",
   "nbconvert_exporter": "python",
   "pygments_lexer": "ipython3",
   "version": "3.7.6"
  }
 },
 "nbformat": 4,
 "nbformat_minor": 4
}
